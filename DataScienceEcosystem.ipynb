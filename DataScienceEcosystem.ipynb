{
 "cells": [
  {
   "cell_type": "markdown",
   "id": "6af0392b-0843-4b6b-b2c0-03037800e1c9",
   "metadata": {},
   "source": [
    "# Data Science Tools and Ecosystem\n"
   ]
  },
  {
   "cell_type": "markdown",
   "id": "60e35775-7385-4e32-8c7e-8c4b6616d0fb",
   "metadata": {
    "jp-MarkdownHeadingCollapsed": true,
    "tags": []
   },
   "source": [
    "In this notebook, Data Science Tools and Ecosystem are summarized."
   ]
  },
  {
   "cell_type": "markdown",
   "id": "164a38ee-2a53-4c91-a7f6-c23f9875891f",
   "metadata": {},
   "source": [
    "Some of the popular languages that Data Scientists use are:\n",
    "1. Python\n",
    "2. R\n",
    "3. SQL\n",
    "4. Java"
   ]
  },
  {
   "cell_type": "markdown",
   "id": "11b1fe6b-04be-421e-a35c-bb6d0889a91b",
   "metadata": {},
   "source": [
    "Some of the commonly used libraries used by Data Scientists include:\n",
    "1. Numpy\n",
    "2. Pandas\n",
    "3. TensorFlow\n",
    "4. Matplotlib"
   ]
  },
  {
   "cell_type": "markdown",
   "id": "a1906920-4ddc-4700-b557-f4316c3ebd1b",
   "metadata": {},
   "source": [
    "| Data Science Tools |\n",
    "| -------------| \n",
    "| RStudio |\n",
    "| Apache Spark | \n",
    "| TensorFlow |\n",
    "| Apache Hadoop |"
   ]
  },
  {
   "cell_type": "markdown",
   "id": "57582108-4e90-4ce4-82ea-a6330d54632d",
   "metadata": {},
   "source": [
    "### Below are a few examples of evaluating arithmetic expressions in Python"
   ]
  },
  {
   "cell_type": "code",
   "execution_count": 11,
   "id": "d9c796ae-412c-4669-946c-0f9c78a9356b",
   "metadata": {},
   "outputs": [
    {
     "data": {
      "text/plain": [
       "17"
      ]
     },
     "execution_count": 11,
     "metadata": {},
     "output_type": "execute_result"
    }
   ],
   "source": [
    "# this a simple arithmetic expression to mutiply then add integers\n",
    "(3*4)+5"
   ]
  },
  {
   "cell_type": "code",
   "execution_count": 13,
   "id": "ffc44769-25fd-4b0d-baea-559412e26f1b",
   "metadata": {},
   "outputs": [
    {
     "name": "stdout",
     "output_type": "stream",
     "text": [
      "3.3333333333333335\n"
     ]
    }
   ],
   "source": [
    "# This will convert 200 minutes to hours by diving by 60\n",
    "a = 200\n",
    "b = 60\n",
    "print(a/b)"
   ]
  },
  {
   "cell_type": "markdown",
   "id": "78bc003f-6a04-4180-89c2-8c2f72d1342a",
   "metadata": {},
   "source": [
    "***Objectives:***"
   ]
  },
  {
   "cell_type": "markdown",
   "id": "9008495f-ec71-48a3-ae10-2f7f36e50b73",
   "metadata": {},
   "source": [
    "- List popular languages for Data Science\n",
    "- List of commonly used libraries\n",
    "- Create Tables in Markdown\n",
    "- Create ordered and unordered lists in Markdown"
   ]
  },
  {
   "cell_type": "markdown",
   "id": "6c355bc4-3bbd-4ca7-b650-b19106d3522d",
   "metadata": {},
   "source": [
    "## Author\n",
    "Jane Lim"
   ]
  },
  {
   "cell_type": "code",
   "execution_count": null,
   "id": "aa6fd6f3-f1bb-4492-b001-d1b0864b9351",
   "metadata": {},
   "outputs": [],
   "source": []
  }
 ],
 "metadata": {
  "kernelspec": {
   "display_name": "anaconda-2022.05-py39",
   "language": "python",
   "name": "conda-env-anaconda-2022.05-py39-py"
  },
  "language_info": {
   "codemirror_mode": {
    "name": "ipython",
    "version": 3
   },
   "file_extension": ".py",
   "mimetype": "text/x-python",
   "name": "python",
   "nbconvert_exporter": "python",
   "pygments_lexer": "ipython3",
   "version": "3.9.12"
  }
 },
 "nbformat": 4,
 "nbformat_minor": 5
}
